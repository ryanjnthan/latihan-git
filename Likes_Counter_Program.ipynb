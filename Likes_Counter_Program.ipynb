{
  "cells": [
    {
      "cell_type": "code",
      "execution_count": null,
      "metadata": {
        "id": "bjYf-b-ZklIv"
      },
      "outputs": [],
      "source": [
        "blog_posts = [{'Photos': 3, 'Likes': 21, 'Comments': 2},\n",
        "              {'Likes': 13, 'Comments': 2, 'Shares': 1},\n",
        "              {'Photos': 5, 'Likes': 33, 'Comments': 8, 'Shares': 3},\n",
        "              {'Comments': 4, 'Shares': 2},\n",
        "              {'Photos': 8, 'Comments': 1, 'Shares': 1},\n",
        "              {'Photos': 3, 'Likes': 19, 'Comments': 3}]"
      ]
    },
    {
      "cell_type": "code",
      "execution_count": null,
      "metadata": {},
      "outputs": [],
      "source": [
        "def ryan():\n",
        "    print(\"hai\")\n",
        "\n",
        "print(hai)"
      ]
    }
  ],
  "metadata": {
    "colab": {
      "provenance": []
    },
    "kernelspec": {
      "display_name": "Python 3",
      "name": "python3"
    },
    "language_info": {
      "name": "python"
    }
  },
  "nbformat": 4,
  "nbformat_minor": 0
}
